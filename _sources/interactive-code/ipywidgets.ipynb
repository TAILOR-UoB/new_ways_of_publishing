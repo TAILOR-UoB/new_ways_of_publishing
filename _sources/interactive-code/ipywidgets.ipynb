{
 "cells": [
  {
   "cell_type": "markdown",
   "id": "26e15fdb",
   "metadata": {},
   "source": [
    "# Interactive plots with Plotly"
   ]
  },
  {
   "cell_type": "code",
   "execution_count": 1,
   "id": "37743d43",
   "metadata": {},
   "outputs": [
    {
     "data": {
      "application/vnd.jupyter.widget-view+json": {
       "model_id": "f4bae597ef7d4dde98a9a2470bf6dcaa",
       "version_major": 2,
       "version_minor": 0
      },
      "text/plain": [
       "interactive(children=(FloatSlider(value=0.0, description='m', max=2.0, min=-2.0), FloatSlider(value=0.0, descr…"
      ]
     },
     "execution_count": 1,
     "metadata": {},
     "output_type": "execute_result"
    }
   ],
   "source": [
    "from ipywidgets import interactive\n",
    "import matplotlib.pyplot as plt\n",
    "import numpy as np\n",
    "\n",
    "def f(m, b):\n",
    "    plt.figure(2)\n",
    "    x = np.linspace(-10, 10, num=1000)\n",
    "    plt.plot(x, m * x + b)\n",
    "    plt.ylim(-5, 5)\n",
    "    plt.show()\n",
    "\n",
    "interactive_plot = interactive(f, m=(-2.0, 2.0), b=(-3, 3, 0.5))\n",
    "output = interactive_plot.children[-1]\n",
    "output.layout.height = '350px'\n",
    "interactive_plot"
   ]
  }
 ],
 "metadata": {
  "jupytext": {
   "formats": "md:myst",
   "text_representation": {
    "extension": ".md",
    "format_name": "myst",
    "format_version": 0.13,
    "jupytext_version": "1.10.3"
   }
  },
  "kernelspec": {
   "display_name": "Python 3",
   "language": "python",
   "name": "python3"
  },
  "language_info": {
   "codemirror_mode": {
    "name": "ipython",
    "version": 3
   },
   "file_extension": ".py",
   "mimetype": "text/x-python",
   "name": "python",
   "nbconvert_exporter": "python",
   "pygments_lexer": "ipython3",
   "version": "3.9.17"
  },
  "source_map": [
   13,
   17
  ],
  "widgets": {
   "application/vnd.jupyter.widget-state+json": {
    "state": {
     "3b5c7c5f4a67421ab8c9e5a94b1e22c5": {
      "model_module": "@jupyter-widgets/base",
      "model_module_version": "2.0.0",
      "model_name": "LayoutModel",
      "state": {
       "_model_module": "@jupyter-widgets/base",
       "_model_module_version": "2.0.0",
       "_model_name": "LayoutModel",
       "_view_count": null,
       "_view_module": "@jupyter-widgets/base",
       "_view_module_version": "2.0.0",
       "_view_name": "LayoutView",
       "align_content": null,
       "align_items": null,
       "align_self": null,
       "border_bottom": null,
       "border_left": null,
       "border_right": null,
       "border_top": null,
       "bottom": null,
       "display": null,
       "flex": null,
       "flex_flow": null,
       "grid_area": null,
       "grid_auto_columns": null,
       "grid_auto_flow": null,
       "grid_auto_rows": null,
       "grid_column": null,
       "grid_gap": null,
       "grid_row": null,
       "grid_template_areas": null,
       "grid_template_columns": null,
       "grid_template_rows": null,
       "height": null,
       "justify_content": null,
       "justify_items": null,
       "left": null,
       "margin": null,
       "max_height": null,
       "max_width": null,
       "min_height": null,
       "min_width": null,
       "object_fit": null,
       "object_position": null,
       "order": null,
       "overflow": null,
       "padding": null,
       "right": null,
       "top": null,
       "visibility": null,
       "width": null
      }
     },
     "554b05c1b799449e9b3a40dfe9788e34": {
      "model_module": "@jupyter-widgets/controls",
      "model_module_version": "2.0.0",
      "model_name": "FloatSliderModel",
      "state": {
       "_dom_classes": [],
       "_model_module": "@jupyter-widgets/controls",
       "_model_module_version": "2.0.0",
       "_model_name": "FloatSliderModel",
       "_view_count": null,
       "_view_module": "@jupyter-widgets/controls",
       "_view_module_version": "2.0.0",
       "_view_name": "FloatSliderView",
       "behavior": "drag-tap",
       "continuous_update": true,
       "description": "m",
       "description_allow_html": false,
       "disabled": false,
       "layout": "IPY_MODEL_b7bf6be464d347c19eb0ebbde7f4744f",
       "max": 2.0,
       "min": -2.0,
       "orientation": "horizontal",
       "readout": true,
       "readout_format": ".2f",
       "step": 0.1,
       "style": "IPY_MODEL_c4e83e14c8cd4c8484b0a59671b942bc",
       "tabbable": null,
       "tooltip": null,
       "value": 0.0
      }
     },
     "98294d8bf96d4cefab61abb333ed3597": {
      "model_module": "@jupyter-widgets/base",
      "model_module_version": "2.0.0",
      "model_name": "LayoutModel",
      "state": {
       "_model_module": "@jupyter-widgets/base",
       "_model_module_version": "2.0.0",
       "_model_name": "LayoutModel",
       "_view_count": null,
       "_view_module": "@jupyter-widgets/base",
       "_view_module_version": "2.0.0",
       "_view_name": "LayoutView",
       "align_content": null,
       "align_items": null,
       "align_self": null,
       "border_bottom": null,
       "border_left": null,
       "border_right": null,
       "border_top": null,
       "bottom": null,
       "display": null,
       "flex": null,
       "flex_flow": null,
       "grid_area": null,
       "grid_auto_columns": null,
       "grid_auto_flow": null,
       "grid_auto_rows": null,
       "grid_column": null,
       "grid_gap": null,
       "grid_row": null,
       "grid_template_areas": null,
       "grid_template_columns": null,
       "grid_template_rows": null,
       "height": "350px",
       "justify_content": null,
       "justify_items": null,
       "left": null,
       "margin": null,
       "max_height": null,
       "max_width": null,
       "min_height": null,
       "min_width": null,
       "object_fit": null,
       "object_position": null,
       "order": null,
       "overflow": null,
       "padding": null,
       "right": null,
       "top": null,
       "visibility": null,
       "width": null
      }
     },
     "b7bf6be464d347c19eb0ebbde7f4744f": {
      "model_module": "@jupyter-widgets/base",
      "model_module_version": "2.0.0",
      "model_name": "LayoutModel",
      "state": {
       "_model_module": "@jupyter-widgets/base",
       "_model_module_version": "2.0.0",
       "_model_name": "LayoutModel",
       "_view_count": null,
       "_view_module": "@jupyter-widgets/base",
       "_view_module_version": "2.0.0",
       "_view_name": "LayoutView",
       "align_content": null,
       "align_items": null,
       "align_self": null,
       "border_bottom": null,
       "border_left": null,
       "border_right": null,
       "border_top": null,
       "bottom": null,
       "display": null,
       "flex": null,
       "flex_flow": null,
       "grid_area": null,
       "grid_auto_columns": null,
       "grid_auto_flow": null,
       "grid_auto_rows": null,
       "grid_column": null,
       "grid_gap": null,
       "grid_row": null,
       "grid_template_areas": null,
       "grid_template_columns": null,
       "grid_template_rows": null,
       "height": null,
       "justify_content": null,
       "justify_items": null,
       "left": null,
       "margin": null,
       "max_height": null,
       "max_width": null,
       "min_height": null,
       "min_width": null,
       "object_fit": null,
       "object_position": null,
       "order": null,
       "overflow": null,
       "padding": null,
       "right": null,
       "top": null,
       "visibility": null,
       "width": null
      }
     },
     "bc48f6c390bd49cfa88a889587380eb0": {
      "model_module": "@jupyter-widgets/output",
      "model_module_version": "1.0.0",
      "model_name": "OutputModel",
      "state": {
       "_dom_classes": [],
       "_model_module": "@jupyter-widgets/output",
       "_model_module_version": "1.0.0",
       "_model_name": "OutputModel",
       "_view_count": null,
       "_view_module": "@jupyter-widgets/output",
       "_view_module_version": "1.0.0",
       "_view_name": "OutputView",
       "layout": "IPY_MODEL_98294d8bf96d4cefab61abb333ed3597",
       "msg_id": "",
       "outputs": [
        {
         "data": {
          "image/png": "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",
          "text/plain": "<Figure size 640x480 with 1 Axes>"
         },
         "metadata": {},
         "output_type": "display_data"
        }
       ],
       "tabbable": null,
       "tooltip": null
      }
     },
     "bf796f67ef8a41c6ab87853037fb2295": {
      "model_module": "@jupyter-widgets/controls",
      "model_module_version": "2.0.0",
      "model_name": "FloatSliderModel",
      "state": {
       "_dom_classes": [],
       "_model_module": "@jupyter-widgets/controls",
       "_model_module_version": "2.0.0",
       "_model_name": "FloatSliderModel",
       "_view_count": null,
       "_view_module": "@jupyter-widgets/controls",
       "_view_module_version": "2.0.0",
       "_view_name": "FloatSliderView",
       "behavior": "drag-tap",
       "continuous_update": true,
       "description": "b",
       "description_allow_html": false,
       "disabled": false,
       "layout": "IPY_MODEL_fa2103a234c74d648d0dac2475ae3110",
       "max": 3.0,
       "min": -3.0,
       "orientation": "horizontal",
       "readout": true,
       "readout_format": ".2f",
       "step": 0.5,
       "style": "IPY_MODEL_e459618d7b2642efa54c2eb0c01eb3a2",
       "tabbable": null,
       "tooltip": null,
       "value": 0.0
      }
     },
     "c4e83e14c8cd4c8484b0a59671b942bc": {
      "model_module": "@jupyter-widgets/controls",
      "model_module_version": "2.0.0",
      "model_name": "SliderStyleModel",
      "state": {
       "_model_module": "@jupyter-widgets/controls",
       "_model_module_version": "2.0.0",
       "_model_name": "SliderStyleModel",
       "_view_count": null,
       "_view_module": "@jupyter-widgets/base",
       "_view_module_version": "2.0.0",
       "_view_name": "StyleView",
       "description_width": "",
       "handle_color": null
      }
     },
     "e459618d7b2642efa54c2eb0c01eb3a2": {
      "model_module": "@jupyter-widgets/controls",
      "model_module_version": "2.0.0",
      "model_name": "SliderStyleModel",
      "state": {
       "_model_module": "@jupyter-widgets/controls",
       "_model_module_version": "2.0.0",
       "_model_name": "SliderStyleModel",
       "_view_count": null,
       "_view_module": "@jupyter-widgets/base",
       "_view_module_version": "2.0.0",
       "_view_name": "StyleView",
       "description_width": "",
       "handle_color": null
      }
     },
     "f4bae597ef7d4dde98a9a2470bf6dcaa": {
      "model_module": "@jupyter-widgets/controls",
      "model_module_version": "2.0.0",
      "model_name": "VBoxModel",
      "state": {
       "_dom_classes": [
        "widget-interact"
       ],
       "_model_module": "@jupyter-widgets/controls",
       "_model_module_version": "2.0.0",
       "_model_name": "VBoxModel",
       "_view_count": null,
       "_view_module": "@jupyter-widgets/controls",
       "_view_module_version": "2.0.0",
       "_view_name": "VBoxView",
       "box_style": "",
       "children": [
        "IPY_MODEL_554b05c1b799449e9b3a40dfe9788e34",
        "IPY_MODEL_bf796f67ef8a41c6ab87853037fb2295",
        "IPY_MODEL_bc48f6c390bd49cfa88a889587380eb0"
       ],
       "layout": "IPY_MODEL_3b5c7c5f4a67421ab8c9e5a94b1e22c5",
       "tabbable": null,
       "tooltip": null
      }
     },
     "fa2103a234c74d648d0dac2475ae3110": {
      "model_module": "@jupyter-widgets/base",
      "model_module_version": "2.0.0",
      "model_name": "LayoutModel",
      "state": {
       "_model_module": "@jupyter-widgets/base",
       "_model_module_version": "2.0.0",
       "_model_name": "LayoutModel",
       "_view_count": null,
       "_view_module": "@jupyter-widgets/base",
       "_view_module_version": "2.0.0",
       "_view_name": "LayoutView",
       "align_content": null,
       "align_items": null,
       "align_self": null,
       "border_bottom": null,
       "border_left": null,
       "border_right": null,
       "border_top": null,
       "bottom": null,
       "display": null,
       "flex": null,
       "flex_flow": null,
       "grid_area": null,
       "grid_auto_columns": null,
       "grid_auto_flow": null,
       "grid_auto_rows": null,
       "grid_column": null,
       "grid_gap": null,
       "grid_row": null,
       "grid_template_areas": null,
       "grid_template_columns": null,
       "grid_template_rows": null,
       "height": null,
       "justify_content": null,
       "justify_items": null,
       "left": null,
       "margin": null,
       "max_height": null,
       "max_width": null,
       "min_height": null,
       "min_width": null,
       "object_fit": null,
       "object_position": null,
       "order": null,
       "overflow": null,
       "padding": null,
       "right": null,
       "top": null,
       "visibility": null,
       "width": null
      }
     }
    },
    "version_major": 2,
    "version_minor": 0
   }
  }
 },
 "nbformat": 4,
 "nbformat_minor": 5
}